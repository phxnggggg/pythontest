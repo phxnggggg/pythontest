{
  "nbformat": 4,
  "nbformat_minor": 0,
  "metadata": {
    "colab": {
      "provenance": [],
      "authorship_tag": "ABX9TyMjoXOGPKZVm0vPeIQSuZwH",
      "include_colab_link": true
    },
    "kernelspec": {
      "name": "python3",
      "display_name": "Python 3"
    },
    "language_info": {
      "name": "python"
    }
  },
  "cells": [
    {
      "cell_type": "markdown",
      "metadata": {
        "id": "view-in-github",
        "colab_type": "text"
      },
      "source": [
        "<a href=\"https://colab.research.google.com/github/phxnggggg/pythontest/blob/main/Untitled0.ipynb\" target=\"_parent\"><img src=\"https://colab.research.google.com/assets/colab-badge.svg\" alt=\"Open In Colab\"/></a>"
      ]
    },
    {
      "cell_type": "code",
      "execution_count": 5,
      "metadata": {
        "colab": {
          "base_uri": "https://localhost:8080/"
        },
        "id": "D1y0SqC1uCTj",
        "outputId": "b4556094-9541-47ab-ff52-f5c810d9817c"
      },
      "outputs": [
        {
          "output_type": "stream",
          "name": "stdout",
          "text": [
            "จำนวนที่ 1:3\n",
            "จำนวนที่ 2:4\n",
            "จำนวนที่ 3:7\n",
            "คำน้อยสุด คือ  3\n"
          ]
        }
      ],
      "source": [
        "a = int(input(\"จำนวนที่ 1:\"))\n",
        "b = int(input(\"จำนวนที่ 2:\"))\n",
        "c = int(input(\"จำนวนที่ 3:\"))\n",
        "m = a\n",
        "if(b<m):\n",
        "    m = b\n",
        "if(c<m):\n",
        "    m=c\n",
        "print(\"คำน้อยสุด คือ \",m)\n"
      ]
    }
  ]
}